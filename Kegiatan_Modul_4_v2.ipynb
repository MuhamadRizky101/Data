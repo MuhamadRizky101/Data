{
  "nbformat": 4,
  "nbformat_minor": 0,
  "metadata": {
    "colab": {
      "name": "Kegiatan Modul 4 v2.ipynb",
      "provenance": [],
      "collapsed_sections": [
        "Mp8Nu2xJFfQg",
        "loGIvd3pGL6b",
        "aGE6hS4FGvOe",
        "zDLJ9jo1G5ew",
        "rSVx7u_sHGQr",
        "D0T-ot0yHmxb",
        "TLNXTkuHKS82"
      ],
      "include_colab_link": true
    },
    "kernelspec": {
      "name": "python3",
      "display_name": "Python 3"
    }
  },
  "cells": [
    {
      "cell_type": "markdown",
      "metadata": {
        "id": "view-in-github",
        "colab_type": "text"
      },
      "source": [
        "<a href=\"https://colab.research.google.com/github/MuhamadRizky101/Data/blob/main/Kegiatan_Modul_4_v2.ipynb\" target=\"_parent\"><img src=\"https://colab.research.google.com/assets/colab-badge.svg\" alt=\"Open In Colab\"/></a>"
      ]
    },
    {
      "cell_type": "code",
      "metadata": {
        "id": "lR8SoXJ0oiH6"
      },
      "source": [
        "import matplotlib.pyplot as plt\n",
        "from matplotlib.pyplot import figure\n",
        "import matplotlib.pyplot as plt\n",
        "import pandas as pd\n",
        "import pylab as pl\n",
        "import numpy as np"
      ],
      "execution_count": null,
      "outputs": []
    },
    {
      "cell_type": "markdown",
      "metadata": {
        "id": "yPZgRpVDuCPW"
      },
      "source": [
        "# **Kegiatan Modul 4**"
      ]
    },
    {
      "cell_type": "markdown",
      "metadata": {
        "id": "4CVopkiSY1jW"
      },
      "source": [
        "**Poin penilaian :**\n",
        "\n",
        "* Tingkat kesesuaian output program\n",
        "* Kerapian kode program\n",
        "* Kesederhanaan Kode\n",
        "* Pemahaman materi modul"
      ]
    },
    {
      "cell_type": "markdown",
      "metadata": {
        "id": "Mp8Nu2xJFfQg"
      },
      "source": [
        "### Definisikan sebuah plot dan atur parameter figure plot dengan ukuran 12x9 **5 poin**"
      ]
    },
    {
      "cell_type": "code",
      "metadata": {
        "id": "6mmcWKP27RTw",
        "colab": {
          "base_uri": "https://localhost:8080/",
          "height": 537
        },
        "outputId": "85fd9503-0285-411a-dcf1-687c3978ae55"
      },
      "source": [
        "# TULIS KODE ANDA DISINI\n",
        "figure(figsize=(12, 9))\n",
        "plt.plot([12, 4, 10, 8, 16, 1, 9])\n",
        "plt.show()"
      ],
      "execution_count": null,
      "outputs": [
        {
          "output_type": "display_data",
          "data": {
            "image/png": "[encoded data removed]",
            "text/plain": [
              "<Figure size 864x648 with 1 Axes>"
            ]
          },
          "metadata": {
            "tags": [],
            "needs_background": "light"
          }
        }
      ]
    },
    {
      "cell_type": "markdown",
      "metadata": {
        "id": "loGIvd3pGL6b"
      },
      "source": [
        "### Gunakkan library pandas untuk load dataset dari link github berikuy [ini.](https://github.com/hattafudholi/dataset/raw/master/data.csv') **5 poin**"
      ]
    },
    {
      "cell_type": "code",
      "metadata": {
        "id": "koEUi9NLOvI5"
      },
      "source": [
        "# TULIS KODE ANDA DISINI\n",
        "url=\"https://github.com/hattafudholi/dataset/raw/master/data.csv\"\n",
        "df=pd.read_csv(url)"
      ],
      "execution_count": null,
      "outputs": []
    },
    {
      "cell_type": "markdown",
      "metadata": {
        "id": "aGE6hS4FGvOe"
      },
      "source": [
        "### Tampilkan head dan tail dari dataset tersebut **10 poin**"
      ]
    },
    {
      "cell_type": "markdown",
      "metadata": {
        "id": "5xjQ15WaaAUK"
      },
      "source": [
        "```\n",
        "Head\n",
        "\t        0\t        1\n",
        "0\t32.502345\t31.707006\n",
        "1\t53.426804\t68.777596\n",
        "2\t61.530358\t62.562382\n",
        "3\t47.475640\t71.546632\n",
        "4\t59.813208\t87.230925\n",
        "\n",
        "Tail\n",
        "\t        0\t          1\n",
        "95\t50.030174\t81.536991\n",
        "96\t49.239765\t72.111832\n",
        "97\t50.039576\t85.232007\n",
        "98\t48.149859\t66.224958\n",
        "99\t25.128485\t53.454394\n",
        "```\n",
        "\n"
      ]
    },
    {
      "cell_type": "code",
      "metadata": {
        "id": "Mk33BEo6OviK",
        "colab": {
          "base_uri": "https://localhost:8080/"
        },
        "outputId": "a4a6478f-6ad6-466f-ca23-34424cdf5fae"
      },
      "source": [
        "# TULIS KODE ANDA DISINI\n",
        "df = pd.read_csv((url), header=None)\n",
        "print('Head\\n', df.head())\n",
        "print('Tail\\n', df.tail())"
      ],
      "execution_count": null,
      "outputs": [
        {
          "output_type": "stream",
          "text": [
            "Head\n",
            "            0          1\n",
            "0  32.502345  31.707006\n",
            "1  53.426804  68.777596\n",
            "2  61.530358  62.562382\n",
            "3  47.475640  71.546632\n",
            "4  59.813208  87.230925\n",
            "Tail\n",
            "             0          1\n",
            "95  50.030174  81.536991\n",
            "96  49.239765  72.111832\n",
            "97  50.039576  85.232007\n",
            "98  48.149859  66.224958\n",
            "99  25.128485  53.454394\n"
          ],
          "name": "stdout"
        }
      ]
    },
    {
      "cell_type": "markdown",
      "metadata": {
        "id": "zDLJ9jo1G5ew"
      },
      "source": [
        "### Tampilkan jumlah baris dari dataset tersebut **5 poin**}"
      ]
    },
    {
      "cell_type": "markdown",
      "metadata": {
        "id": "Xdzg9VBRawXp"
      },
      "source": [
        "\n",
        "\n",
        "```\n",
        "# Output : 100\n",
        "```\n",
        "\n"
      ]
    },
    {
      "cell_type": "code",
      "metadata": {
        "id": "9z5ZC7TGOv2g",
        "colab": {
          "base_uri": "https://localhost:8080/"
        },
        "outputId": "3f7fd612-380b-47f4-beda-ae620cf34b6d"
      },
      "source": [
        "# TULIS KODE ANDA DISINI\n",
        "len(df)"
      ],
      "execution_count": null,
      "outputs": [
        {
          "output_type": "execute_result",
          "data": {
            "text/plain": [
              "100"
            ]
          },
          "metadata": {
            "tags": []
          },
          "execution_count": 9
        }
      ]
    },
    {
      "cell_type": "markdown",
      "metadata": {
        "id": "rSVx7u_sHGQr"
      },
      "source": [
        "### Definisikan fitur `x` dan label `y` dari datset tersebut. Dimana data target class adalah kolom 1. **10 poin**"
      ]
    },
    {
      "cell_type": "markdown",
      "metadata": {
        "id": "2uQYhCi5UE1G"
      },
      "source": [
        "**Note :**\n",
        "\n",
        "supervised machine learning merupakan sebuah sub bidang ML yang mempelajari cara menggabungkan masukan untuk menghasilkan prediksi yang berguna pada data yang tidak pernah dilihat sebelumnya.\n",
        "\n",
        "**Label**\n",
        "\n",
        "Merupakan hal yang kita prediksi yang di notasikan oleh variabel `y` dalam regresi linear sederhana. Label tersebut bisa seperti harga sate padang di masa depan, jenis binatang yang dalam gambar, arti klip audio, atau tentang apa saja.\n",
        "\n",
        "**Fitur**\n",
        "\n",
        "Fitur merupakan variabel masukan yang di notasikan oleh variabel `x` dalam regresi linear sederhana. Sebuah project machine learning sederhana mungkin menggunakan fitur tunggal, sementara project machine learning yang lebih canggih dapat menggunakan jutaan fitur, ditetapkan sebagai:\n",
        "\n",
        "\\begin{equation}\n",
        "\n",
        "x_1, x_2, ..., x_n\n",
        "\n",
        "\\end{equation}\n",
        "\n",
        "[Read More](https://developers.google.com/machine-learning/crash-course/framing/ml-terminology?hl=id)"
      ]
    },
    {
      "cell_type": "code",
      "metadata": {
        "id": "kMtIpl58OwQH",
        "colab": {
          "base_uri": "https://localhost:8080/"
        },
        "outputId": "92141494-1e48-4f89-facd-df0f80c3376f"
      },
      "source": [
        "X = pd.Series(df[0])\n",
        "X\n",
        "# TULIS KODE ANDA DISINI"
      ],
      "execution_count": null,
      "outputs": [
        {
          "output_type": "execute_result",
          "data": {
            "text/plain": [
              "0     32.502345\n",
              "1     53.426804\n",
              "2     61.530358\n",
              "3     47.475640\n",
              "4     59.813208\n",
              "        ...    \n",
              "95    50.030174\n",
              "96    49.239765\n",
              "97    50.039576\n",
              "98    48.149859\n",
              "99    25.128485\n",
              "Name: 0, Length: 100, dtype: float64"
            ]
          },
          "metadata": {
            "tags": []
          },
          "execution_count": 6
        }
      ]
    },
    {
      "cell_type": "code",
      "metadata": {
        "colab": {
          "base_uri": "https://localhost:8080/"
        },
        "id": "KGoSLvOBdZua",
        "outputId": "10d1b0f2-cbe5-493c-a4d9-2b4493ee56de"
      },
      "source": [
        "Y = pd.Series(df[1])\n",
        "Y"
      ],
      "execution_count": null,
      "outputs": [
        {
          "output_type": "execute_result",
          "data": {
            "text/plain": [
              "0     31.707006\n",
              "1     68.777596\n",
              "2     62.562382\n",
              "3     71.546632\n",
              "4     87.230925\n",
              "        ...    \n",
              "95    81.536991\n",
              "96    72.111832\n",
              "97    85.232007\n",
              "98    66.224958\n",
              "99    53.454394\n",
              "Name: 1, Length: 100, dtype: float64"
            ]
          },
          "metadata": {
            "tags": []
          },
          "execution_count": 7
        }
      ]
    },
    {
      "cell_type": "code",
      "metadata": {
        "id": "Pzpg0PaJVUWD",
        "colab": {
          "base_uri": "https://localhost:8080/"
        },
        "outputId": "c4ec30d7-7fa9-45ec-bbfd-aed546a692bc"
      },
      "source": [
        "X"
      ],
      "execution_count": null,
      "outputs": [
        {
          "output_type": "execute_result",
          "data": {
            "text/plain": [
              "0     32.502345\n",
              "1     53.426804\n",
              "2     61.530358\n",
              "3     47.475640\n",
              "4     59.813208\n",
              "        ...    \n",
              "95    50.030174\n",
              "96    49.239765\n",
              "97    50.039576\n",
              "98    48.149859\n",
              "99    25.128485\n",
              "Name: 0, Length: 100, dtype: float64"
            ]
          },
          "metadata": {
            "tags": []
          },
          "execution_count": 8
        }
      ]
    },
    {
      "cell_type": "code",
      "metadata": {
        "id": "HaFvYKpvVYYk",
        "colab": {
          "base_uri": "https://localhost:8080/"
        },
        "outputId": "a836bf4b-9177-4a04-bf1b-97bb74f8e34f"
      },
      "source": [
        "Y"
      ],
      "execution_count": null,
      "outputs": [
        {
          "output_type": "execute_result",
          "data": {
            "text/plain": [
              "0     31.707006\n",
              "1     68.777596\n",
              "2     62.562382\n",
              "3     71.546632\n",
              "4     87.230925\n",
              "        ...    \n",
              "95    81.536991\n",
              "96    72.111832\n",
              "97    85.232007\n",
              "98    66.224958\n",
              "99    53.454394\n",
              "Name: 1, Length: 100, dtype: float64"
            ]
          },
          "metadata": {
            "tags": []
          },
          "execution_count": 9
        }
      ]
    },
    {
      "cell_type": "markdown",
      "metadata": {
        "id": "xTQs3nUDHbC0"
      },
      "source": [
        "### Buatlah scatter plot dari data tersebut. **10 poin**"
      ]
    },
    {
      "cell_type": "markdown",
      "metadata": {
        "id": "MJ23TCfBO6Ph"
      },
      "source": [
        "**Hasil Scatter Plot**\n",
        "\n",
        "<img src = \"https://i.ibb.co/mzrvJ0h/download-1.png\" align = \"center\">"
      ]
    },
    {
      "cell_type": "code",
      "metadata": {
        "id": "ImtY2xrdOwgC",
        "colab": {
          "base_uri": "https://localhost:8080/"
        },
        "outputId": "86a49172-b61a-4812-c390-7b2209f038dd"
      },
      "source": [
        "# TULIS KODE ANDA DISINI\n",
        "figure(figsize=(12, 9))\n",
        "plt.scatter(X, Y)\n",
        "plt.show()"
      ],
      "execution_count": null,
      "outputs": [
        {
          "output_type": "display_data",
          "data": {
            "image/png": "[encoded data removed]",
            "text/plain": [
              "<Figure size 864x648 with 1 Axes>"
            ]
          },
          "metadata": {
            "tags": [],
            "needs_background": "light"
          }
        }
      ]
    },
    {
      "cell_type": "markdown",
      "metadata": {
        "id": "D0T-ot0yHmxb"
      },
      "source": [
        "### Terapkan metode linear regression manual \n",
        "\n",
        "Dengan cara mendefinisikan `iterasi` sebesar `25` , `learning rate` sebesar `0.0001` kemudian nilai `a` dan `b = 0` dan nilai `n` sebesar nilai float dari panjang data `x`. Kemudian tampilkan scatter plot dan juga garis linear untuk setiap iterasinya **30 poin**"
      ]
    },
    {
      "cell_type": "markdown",
      "metadata": {
        "id": "cye74U-pO-o2"
      },
      "source": [
        "**Hasil Scatter Plot dan Linier Line**\n",
        "\n",
        "<img src = \"https://i.ibb.co/T2Jjs9M/download-2.png\" align = \"center\">"
      ]
    },
    {
      "cell_type": "code",
      "metadata": {
        "id": "yCTcT5y_ChzI"
      },
      "source": [
        "a = 0\n",
        "b = 0\n",
        "L = 0.0001 #learning rate\n",
        "epochs = 25 #jumlah iterasi"
      ],
      "execution_count": null,
      "outputs": []
    },
    {
      "cell_type": "code",
      "metadata": {
        "id": "pcoot8sQZonU"
      },
      "source": [
        "# TULIS KODE ANDA DISINI\n",
        "n = float(len(X))\n",
        "\n",
        "a_history = [0]\n",
        "b_history = [0]\n",
        " \n",
        "for i in range(epochs): \n",
        "    regresi = a*X + b\n",
        "    dat_a = (-2/n) * sum(X * (Y - regresi))\n",
        "    dat_b = (-2/n) * sum(Y - regresi)\n",
        "    a = a - L * dat_a\n",
        "    b = b - L * dat_b\n",
        "    a_history.append(a)\n",
        "    b_history.append(b)"
      ],
      "execution_count": null,
      "outputs": []
    },
    {
      "cell_type": "code",
      "metadata": {
        "colab": {
          "base_uri": "https://localhost:8080/",
          "height": 537
        },
        "id": "VFGJ8Dffeiqi",
        "outputId": "e02326f3-3bd0-4df7-d72e-70eacb463a6b"
      },
      "source": [
        "plt.figure(figsize=(12,9))\n",
        " \n",
        "for y, z in zip(a_history, b_history):\n",
        "  plt.scatter(X, Y, color='purple')\n",
        "  regresi = y*X + z\n",
        "  plt.plot([min(X), max(X)], [min(regresi), max(regresi)], color='red')"
      ],
      "execution_count": null,
      "outputs": [
        {
          "output_type": "display_data",
          "data": {
            "image/png": "[encoded data removed]",
            "text/plain": [
              "<Figure size 864x648 with 1 Axes>"
            ]
          },
          "metadata": {
            "tags": [],
            "needs_background": "light"
          }
        }
      ]
    },
    {
      "cell_type": "markdown",
      "metadata": {
        "id": "TLNXTkuHKS82"
      },
      "source": [
        "### Gunakan libary `sklearn.linear_model.LinearRegression` untuk melakukan regresi liniers dengan menggunakan data css sebelumnya. \n",
        "\n",
        "\n",
        "Tampilkan scatter plot dan juga garis best fitting line nya **25 poin**"
      ]
    },
    {
      "cell_type": "markdown",
      "metadata": {
        "id": "SKNupneTPbPf"
      },
      "source": [
        "**Hasil Scatter Plot dan Best Fitting Line**\n",
        "\n",
        "<img src = \"https://i.ibb.co/b6kgQJS/download.png\" align = \"center\">"
      ]
    },
    {
      "cell_type": "code",
      "metadata": {
        "id": "TPlsp1ryJTeC",
        "colab": {
          "base_uri": "https://localhost:8080/"
        },
        "outputId": "5a5c07a3-a899-45fb-ddc2-c8217a043986"
      },
      "source": [
        "# TULIS KODE ANDA DISINI\n",
        "from sklearn.linear_model import LinearRegression\n",
        "from sklearn import linear_model\n",
        " \n",
        "regression = linear_model.LinearRegression()\n",
        " \n",
        "data_x = np.asanyarray(df[[0]]) \n",
        "data_y = np.asanyarray(df[[1]]) \n",
        " \n",
        "regression.fit (data_x, data_y)\n",
        " \n",
        "print('Coefficients : ', regression.coef_)\n",
        "print('Intercept : ', regression.intercept_)"
      ],
      "execution_count": null,
      "outputs": [
        {
          "output_type": "stream",
          "text": [
            "Coefficients :  [[1.32243102]]\n",
            "Intercept :  [7.99102098]\n"
          ],
          "name": "stdout"
        }
      ]
    },
    {
      "cell_type": "code",
      "metadata": {
        "id": "nCzyyDwdtrjS",
        "colab": {
          "base_uri": "https://localhost:8080/",
          "height": 551
        },
        "outputId": "82f93198-1e57-4ecf-f4f4-75b131bbfacb"
      },
      "source": [
        "plt.figure(figsize=(12,9))\n",
        "plt.scatter(df[0], df[1])\n",
        "plt.plot(data_x, regression.coef_[0][0]*data_x + regression.intercept_[0], '-r')\n",
        "plt.xlabel('X')\n",
        "plt.ylabel('Y')\n",
        "plt.show()"
      ],
      "execution_count": null,
      "outputs": [
        {
          "output_type": "display_data",
          "data": {
            "image/png": "[encoded data removed]",
            "text/plain": [
              "<Figure size 864x648 with 1 Axes>"
            ]
          },
          "metadata": {
            "tags": [],
            "needs_background": "light"
          }
        }
      ]
    },
    {
      "cell_type": "code",
      "metadata": {
        "id": "B-uYUZjjWrXA"
      },
      "source": [
        ""
      ],
      "execution_count": null,
      "outputs": []
    }
  ]
}